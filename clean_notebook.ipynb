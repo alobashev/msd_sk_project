{
 "cells": [
  {
   "cell_type": "code",
   "execution_count": 1,
   "id": "a25957fc-62ae-4446-8ca7-562b44ff7527",
   "metadata": {},
   "outputs": [],
   "source": [
    "from src.preprocessing import parse_data, split_train_test\n",
    "from src.training import trainer\n",
    "from src.models import LSTM, LSTMAtt, CNN\n",
    "from src.evaluation import eval_model\n",
    "import torch"
   ]
  },
  {
   "cell_type": "code",
   "execution_count": null,
   "id": "2af41c3b-7bc8-4f32-b726-944e6a4811b4",
   "metadata": {},
   "outputs": [],
   "source": []
  },
  {
   "cell_type": "markdown",
   "id": "c15979f1-ce50-4a33-9d7b-f606288eb3a2",
   "metadata": {},
   "source": [
    "# Load data"
   ]
  },
  {
   "cell_type": "code",
   "execution_count": 2,
   "id": "c0ff026a-8938-49e7-ada3-35cdfb5f8db1",
   "metadata": {},
   "outputs": [],
   "source": [
    "df, labels = parse_data()"
   ]
  },
  {
   "cell_type": "code",
   "execution_count": 3,
   "id": "9b6fdef4-54ce-4a88-ad64-71412b97ad53",
   "metadata": {},
   "outputs": [],
   "source": [
    "df_train_features, df_train_labels, df_val_features, df_val_labels = split_train_test(df, labels)"
   ]
  },
  {
   "cell_type": "code",
   "execution_count": 4,
   "id": "564468cb-6f0d-4ab7-a339-3596a5d226fe",
   "metadata": {},
   "outputs": [
    {
     "name": "stdout",
     "output_type": "stream",
     "text": [
      "torch.Size([34, 24, 1]) torch.Size([34]) torch.Size([33, 24, 1]) torch.Size([33])\n"
     ]
    }
   ],
   "source": [
    "print(df_train_features.shape, df_train_labels.shape, df_val_features.shape, df_val_labels.shape)"
   ]
  },
  {
   "cell_type": "code",
   "execution_count": 5,
   "id": "3c13f726-b026-4a61-96be-cd07e6b56947",
   "metadata": {},
   "outputs": [
    {
     "data": {
      "text/plain": [
       "(tensor([0, 1]), tensor([33, 34]))"
      ]
     },
     "execution_count": 5,
     "metadata": {},
     "output_type": "execute_result"
    }
   ],
   "source": [
    "import torch\n",
    "torch.unique(labels, return_counts=True)"
   ]
  },
  {
   "cell_type": "code",
   "execution_count": 6,
   "id": "4d8dd51f-c206-476b-81ba-7eb053eff189",
   "metadata": {},
   "outputs": [
    {
     "data": {
      "text/plain": [
       "(tensor([0, 1]), tensor([13, 21]))"
      ]
     },
     "execution_count": 6,
     "metadata": {},
     "output_type": "execute_result"
    }
   ],
   "source": [
    "torch.unique(df_train_labels, return_counts=True)"
   ]
  },
  {
   "cell_type": "code",
   "execution_count": 7,
   "id": "700f4216-0ea5-4ae3-a344-03525b489052",
   "metadata": {},
   "outputs": [
    {
     "data": {
      "text/plain": [
       "(tensor([0, 1]), tensor([20, 13]))"
      ]
     },
     "execution_count": 7,
     "metadata": {},
     "output_type": "execute_result"
    }
   ],
   "source": [
    "torch.unique(df_val_labels , return_counts=True)"
   ]
  },
  {
   "cell_type": "markdown",
   "id": "a4a8f530-1961-49b0-b022-13c6ae9a4fbf",
   "metadata": {},
   "source": [
    "# Training"
   ]
  },
  {
   "cell_type": "code",
   "execution_count": 8,
   "id": "361b86f8-e29c-44e1-b217-f6192d04ca50",
   "metadata": {},
   "outputs": [],
   "source": [
    "n_epochs = 500\n",
    "tolerance = 100\n",
    "freq_print = 10"
   ]
  },
  {
   "cell_type": "code",
   "execution_count": 9,
   "id": "ae3c394e-69ea-48de-96e9-ceea26f8b833",
   "metadata": {},
   "outputs": [],
   "source": [
    "device = \"cuda:0\" if torch.cuda.is_available() else \"cpu\""
   ]
  },
  {
   "cell_type": "markdown",
   "id": "965fe9b1-4256-4e44-85df-b9a37366c161",
   "metadata": {},
   "source": [
    "### LSTM"
   ]
  },
  {
   "cell_type": "code",
   "execution_count": null,
   "id": "4d78f38b-f930-4acf-a014-8369e64d8fcf",
   "metadata": {},
   "outputs": [],
   "source": []
  },
  {
   "cell_type": "code",
   "execution_count": 10,
   "id": "d6b57c58-a092-4e2f-ba84-3de472c10d10",
   "metadata": {},
   "outputs": [],
   "source": [
    "lstm_model = LSTM(1, 10, 1, 2)"
   ]
  },
  {
   "cell_type": "code",
   "execution_count": 11,
   "id": "2f83736e-da4b-4c5c-bdef-540c2db437d4",
   "metadata": {},
   "outputs": [
    {
     "data": {
      "text/plain": [
       "'cuda:0'"
      ]
     },
     "execution_count": 11,
     "metadata": {},
     "output_type": "execute_result"
    }
   ],
   "source": [
    "device"
   ]
  },
  {
   "cell_type": "code",
   "execution_count": 12,
   "id": "911267a6-c155-475b-af0e-891f24078b6a",
   "metadata": {},
   "outputs": [
    {
     "name": "stdout",
     "output_type": "stream",
     "text": [
      "Epoch = 9, \tLoss = 0.6971585750579834, \tTraining_acc = 0.5, \tValidation_acc = 0.5\n",
      "Epoch = 19, \tLoss = 0.6420931816101074, \tTraining_acc = 0.5, \tValidation_acc = 0.5\n",
      "Epoch = 29, \tLoss = 0.6616765260696411, \tTraining_acc = 0.6794871794871795, \tValidation_acc = 0.6692307692307693\n",
      "Epoch = 39, \tLoss = 0.6047766208648682, \tTraining_acc = 0.6355311355311355, \tValidation_acc = 0.6596153846153847\n",
      "Epoch = 49, \tLoss = 0.6538292765617371, \tTraining_acc = 0.6355311355311355, \tValidation_acc = 0.6730769230769231\n",
      "Epoch = 59, \tLoss = 0.6251329183578491, \tTraining_acc = 0.6355311355311355, \tValidation_acc = 0.6730769230769231\n",
      "Epoch = 69, \tLoss = 0.6258093118667603, \tTraining_acc = 0.6355311355311355, \tValidation_acc = 0.6730769230769231\n",
      "Epoch = 79, \tLoss = 0.6107276678085327, \tTraining_acc = 0.6355311355311355, \tValidation_acc = 0.698076923076923\n",
      "Epoch = 89, \tLoss = 0.5515342354774475, \tTraining_acc = 0.6593406593406593, \tValidation_acc = 0.698076923076923\n",
      "Epoch = 99, \tLoss = 0.5565928220748901, \tTraining_acc = 0.7216117216117216, \tValidation_acc = 0.7230769230769231\n",
      "Epoch = 109, \tLoss = 0.568139910697937, \tTraining_acc = 0.7985347985347986, \tValidation_acc = 0.7865384615384616\n",
      "Epoch = 119, \tLoss = 0.5201967358589172, \tTraining_acc = 0.836996336996337, \tValidation_acc = 0.8365384615384616\n",
      "Epoch = 129, \tLoss = 0.49691256880760193, \tTraining_acc = 0.836996336996337, \tValidation_acc = 0.8365384615384616\n",
      "Epoch = 139, \tLoss = 0.5675557255744934, \tTraining_acc = 0.836996336996337, \tValidation_acc = 0.8615384615384616\n",
      "Epoch = 149, \tLoss = 0.5285651087760925, \tTraining_acc = 0.836996336996337, \tValidation_acc = 0.8615384615384616\n",
      "Epoch = 159, \tLoss = 0.5785797238349915, \tTraining_acc = 0.8608058608058609, \tValidation_acc = 0.9\n",
      "Epoch = 169, \tLoss = 0.5526320338249207, \tTraining_acc = 0.8608058608058609, \tValidation_acc = 0.9\n",
      "Epoch = 179, \tLoss = 0.5308564901351929, \tTraining_acc = 0.8608058608058609, \tValidation_acc = 0.9\n",
      "Epoch = 189, \tLoss = 0.5585231781005859, \tTraining_acc = 0.8608058608058609, \tValidation_acc = 0.9\n",
      "Epoch = 199, \tLoss = 0.5523824095726013, \tTraining_acc = 0.8608058608058609, \tValidation_acc = 0.9\n",
      "Epoch = 209, \tLoss = 0.5637233257293701, \tTraining_acc = 0.8608058608058609, \tValidation_acc = 0.9\n",
      "Epoch = 219, \tLoss = 0.5047101378440857, \tTraining_acc = 0.8608058608058609, \tValidation_acc = 0.9\n",
      "Epoch = 229, \tLoss = 0.4818035066127777, \tTraining_acc = 0.8608058608058609, \tValidation_acc = 0.9\n",
      "Epoch = 239, \tLoss = 0.5699293613433838, \tTraining_acc = 0.8608058608058609, \tValidation_acc = 0.925\n",
      "Epoch = 249, \tLoss = 0.5625967979431152, \tTraining_acc = 0.8608058608058609, \tValidation_acc = 0.925\n",
      "Epoch = 259, \tLoss = 0.4885503649711609, \tTraining_acc = 0.8608058608058609, \tValidation_acc = 0.925\n",
      "Epoch = 269, \tLoss = 0.48257356882095337, \tTraining_acc = 0.8992673992673992, \tValidation_acc = 0.925\n",
      "Best validation accuracy is: 0.925\n"
     ]
    }
   ],
   "source": [
    "lstm_model = trainer(\n",
    "    model=lstm_model,\n",
    "    n_epochs=n_epochs,\n",
    "    X_train=df_train_features,\n",
    "    y_train=df_train_labels,\n",
    "    X_val=df_val_features,\n",
    "    y_val=df_val_labels,\n",
    "    device=device,\n",
    "    tolerance=tolerance,\n",
    "    freq_print=freq_print,\n",
    ")"
   ]
  },
  {
   "cell_type": "code",
   "execution_count": null,
   "id": "2222dbca-c2dd-44c0-a416-60f54c03f92d",
   "metadata": {},
   "outputs": [],
   "source": []
  },
  {
   "cell_type": "code",
   "execution_count": null,
   "id": "8d799000-2972-4971-94f4-c9946d2ef50b",
   "metadata": {},
   "outputs": [],
   "source": []
  },
  {
   "cell_type": "markdown",
   "id": "1d43c51c-86c0-42e3-80f5-f576015a4516",
   "metadata": {},
   "source": [
    "### LSTMAtt"
   ]
  },
  {
   "cell_type": "code",
   "execution_count": 13,
   "id": "25a8d1a3-ff09-4221-ae30-6162333267a1",
   "metadata": {},
   "outputs": [],
   "source": [
    "lstmatt_model = LSTMAtt(1, 30, 1, 2)"
   ]
  },
  {
   "cell_type": "code",
   "execution_count": 14,
   "id": "35f88058-240c-4ebc-a40a-5874edbff2e9",
   "metadata": {},
   "outputs": [
    {
     "name": "stdout",
     "output_type": "stream",
     "text": [
      "Epoch = 9, \tLoss = 0.6064983010292053, \tTraining_acc = 0.5, \tValidation_acc = 0.5\n",
      "Epoch = 19, \tLoss = 0.6150121092796326, \tTraining_acc = 0.5, \tValidation_acc = 0.5\n",
      "Epoch = 29, \tLoss = 0.5709090232849121, \tTraining_acc = 0.5, \tValidation_acc = 0.5\n",
      "Epoch = 39, \tLoss = 0.5085048079490662, \tTraining_acc = 0.5, \tValidation_acc = 0.5\n",
      "Epoch = 49, \tLoss = 0.5515789985656738, \tTraining_acc = 0.47985347985347987, \tValidation_acc = 0.47692307692307695\n",
      "Epoch = 59, \tLoss = 0.5328212380409241, \tTraining_acc = 0.47985347985347987, \tValidation_acc = 0.47692307692307695\n",
      "Epoch = 69, \tLoss = 0.48128336668014526, \tTraining_acc = 0.4560439560439561, \tValidation_acc = 0.47692307692307695\n",
      "Epoch = 79, \tLoss = 0.4628163278102875, \tTraining_acc = 0.5183150183150182, \tValidation_acc = 0.47692307692307695\n",
      "Epoch = 89, \tLoss = 0.493915319442749, \tTraining_acc = 0.5421245421245421, \tValidation_acc = 0.6038461538461539\n",
      "Epoch = 99, \tLoss = 0.4514884352684021, \tTraining_acc = 0.6043956043956045, \tValidation_acc = 0.6673076923076923\n",
      "Epoch = 109, \tLoss = 0.47750309109687805, \tTraining_acc = 0.6428571428571428, \tValidation_acc = 0.7307692307692308\n",
      "Epoch = 119, \tLoss = 0.47995781898498535, \tTraining_acc = 0.9047619047619048, \tValidation_acc = 0.8846153846153846\n",
      "Epoch = 129, \tLoss = 0.42763495445251465, \tTraining_acc = 0.7619047619047619, \tValidation_acc = 0.8076923076923077\n",
      "Epoch = 139, \tLoss = 0.41961389780044556, \tTraining_acc = 0.6428571428571428, \tValidation_acc = 0.7692307692307692\n",
      "Epoch = 149, \tLoss = 0.372402161359787, \tTraining_acc = 0.9047619047619048, \tValidation_acc = 0.8846153846153846\n",
      "Epoch = 159, \tLoss = 0.3903360962867737, \tTraining_acc = 0.9761904761904762, \tValidation_acc = 1.0\n",
      "Epoch = 169, \tLoss = 0.42330971360206604, \tTraining_acc = 0.9761904761904762, \tValidation_acc = 1.0\n",
      "Epoch = 179, \tLoss = 0.36966073513031006, \tTraining_acc = 0.9523809523809523, \tValidation_acc = 0.8846153846153846\n",
      "Epoch = 189, \tLoss = 0.3894790709018707, \tTraining_acc = 0.7857142857142857, \tValidation_acc = 0.8076923076923077\n",
      "Epoch = 199, \tLoss = 0.37204989790916443, \tTraining_acc = 0.8809523809523809, \tValidation_acc = 0.8461538461538461\n",
      "Epoch = 209, \tLoss = 0.4085541367530823, \tTraining_acc = 0.9761904761904762, \tValidation_acc = 1.0\n",
      "Epoch = 219, \tLoss = 0.3969924747943878, \tTraining_acc = 0.8846153846153846, \tValidation_acc = 0.95\n",
      "Epoch = 229, \tLoss = 0.36640530824661255, \tTraining_acc = 0.8846153846153846, \tValidation_acc = 0.95\n",
      "Epoch = 239, \tLoss = 0.36526793241500854, \tTraining_acc = 0.9615384615384616, \tValidation_acc = 0.95\n",
      "Epoch = 249, \tLoss = 0.38076189160346985, \tTraining_acc = 0.9615384615384616, \tValidation_acc = 0.95\n",
      "Best validation accuracy is: 1.0\n"
     ]
    }
   ],
   "source": [
    "lstmatt_model = trainer(\n",
    "    model=lstmatt_model,\n",
    "    n_epochs=n_epochs,\n",
    "    X_train=df_train_features,\n",
    "    y_train=df_train_labels,\n",
    "    X_val=df_val_features,\n",
    "    y_val=df_val_labels,\n",
    "    device=device,\n",
    "    tolerance=tolerance,\n",
    "    freq_print=freq_print,\n",
    ")"
   ]
  },
  {
   "cell_type": "code",
   "execution_count": null,
   "id": "f7604ade-ffde-446c-b81e-d9138c3586b0",
   "metadata": {},
   "outputs": [],
   "source": []
  },
  {
   "cell_type": "markdown",
   "id": "d216be17-0cfd-4901-a0ff-408afa988368",
   "metadata": {},
   "source": [
    "### CNN"
   ]
  },
  {
   "cell_type": "code",
   "execution_count": 15,
   "id": "c55aa49b-ae5a-4671-b0b1-1acd91e57c7d",
   "metadata": {},
   "outputs": [],
   "source": [
    "df_train_features_cnn = df_train_features.transpose(1, 2)\n",
    "df_val_features_cnn = df_val_features.transpose(1, 2)"
   ]
  },
  {
   "cell_type": "code",
   "execution_count": 16,
   "id": "79a9d2db-1f51-40d1-b6aa-7a3a45687263",
   "metadata": {},
   "outputs": [],
   "source": [
    "cnn_model = CNN(2)"
   ]
  },
  {
   "cell_type": "code",
   "execution_count": 17,
   "id": "2c68c0a4-64be-4121-8371-51d758b0d969",
   "metadata": {},
   "outputs": [
    {
     "name": "stdout",
     "output_type": "stream",
     "text": [
      "Epoch = 9, \tLoss = 0.682962954044342, \tTraining_acc = 0.5, \tValidation_acc = 0.5\n",
      "Epoch = 19, \tLoss = 0.6293696165084839, \tTraining_acc = 0.5, \tValidation_acc = 0.5\n",
      "Epoch = 29, \tLoss = 0.49825331568717957, \tTraining_acc = 0.5714285714285714, \tValidation_acc = 0.5\n",
      "Epoch = 39, \tLoss = 0.504095196723938, \tTraining_acc = 0.8095238095238095, \tValidation_acc = 0.8461538461538461\n",
      "Epoch = 49, \tLoss = 0.6003747582435608, \tTraining_acc = 0.9523809523809523, \tValidation_acc = 0.9230769230769231\n",
      "Epoch = 59, \tLoss = 0.5780887007713318, \tTraining_acc = 0.9761904761904762, \tValidation_acc = 0.9615384615384616\n",
      "Epoch = 69, \tLoss = 0.4853639006614685, \tTraining_acc = 0.9761904761904762, \tValidation_acc = 0.9615384615384616\n",
      "Epoch = 79, \tLoss = 0.45815330743789673, \tTraining_acc = 0.9761904761904762, \tValidation_acc = 0.9615384615384616\n",
      "Epoch = 89, \tLoss = 0.48641467094421387, \tTraining_acc = 0.9761904761904762, \tValidation_acc = 0.9615384615384616\n",
      "Epoch = 99, \tLoss = 0.41935408115386963, \tTraining_acc = 0.9761904761904762, \tValidation_acc = 0.9615384615384616\n",
      "Epoch = 109, \tLoss = 0.4492993950843811, \tTraining_acc = 0.9761904761904762, \tValidation_acc = 0.9615384615384616\n",
      "Epoch = 119, \tLoss = 0.4658680260181427, \tTraining_acc = 0.9761904761904762, \tValidation_acc = 0.9615384615384616\n",
      "Epoch = 129, \tLoss = 0.40574461221694946, \tTraining_acc = 0.9761904761904762, \tValidation_acc = 0.9615384615384616\n",
      "Epoch = 139, \tLoss = 0.426527738571167, \tTraining_acc = 0.9761904761904762, \tValidation_acc = 0.9615384615384616\n",
      "Epoch = 149, \tLoss = 0.4397192895412445, \tTraining_acc = 0.9761904761904762, \tValidation_acc = 0.9615384615384616\n",
      "Best validation accuracy is: 0.9615384615384616\n"
     ]
    }
   ],
   "source": [
    "cnn_model = trainer(\n",
    "    model=cnn_model,\n",
    "    n_epochs=n_epochs,\n",
    "    X_train=df_train_features_cnn,\n",
    "    y_train=df_train_labels,\n",
    "    X_val=df_val_features_cnn,\n",
    "    y_val=df_val_labels,\n",
    "    device=device,\n",
    "    tolerance=tolerance,\n",
    "    freq_print=freq_print,\n",
    ")"
   ]
  },
  {
   "cell_type": "code",
   "execution_count": null,
   "id": "a6d49304-e15e-416f-8833-3c7dbf1a7ab1",
   "metadata": {},
   "outputs": [],
   "source": []
  },
  {
   "cell_type": "markdown",
   "id": "ac140209-9b37-47ca-8cff-6963d2914cfd",
   "metadata": {},
   "source": [
    "# Evaluation"
   ]
  },
  {
   "cell_type": "code",
   "execution_count": null,
   "id": "697b16f2-90c0-490c-a40c-c90777b985b5",
   "metadata": {},
   "outputs": [],
   "source": []
  },
  {
   "cell_type": "code",
   "execution_count": 18,
   "id": "56938913-72e1-425b-956d-01131c731ea6",
   "metadata": {},
   "outputs": [],
   "source": [
    "df_test, labels_test = parse_data(data_path='./data/ItalyPowerDemand_TEST.ts')"
   ]
  },
  {
   "cell_type": "code",
   "execution_count": null,
   "id": "814923ef-1d35-4d75-bdd9-615e771be7f4",
   "metadata": {},
   "outputs": [],
   "source": []
  },
  {
   "cell_type": "code",
   "execution_count": 19,
   "id": "5c64b699-9682-4cc0-a635-47d32c3cb1d1",
   "metadata": {},
   "outputs": [
    {
     "name": "stdout",
     "output_type": "stream",
     "text": [
      "LSTM test accuracy = 0.8232977469513577\n"
     ]
    }
   ],
   "source": [
    "_ = eval_model(model_name=\"LSTM\", model=lstm_model, X_test=df_test, y_test=labels_test, device=device)"
   ]
  },
  {
   "cell_type": "code",
   "execution_count": 20,
   "id": "9b583f0c-ed0c-4f40-9a03-8e820d7d5e1f",
   "metadata": {},
   "outputs": [
    {
     "name": "stdout",
     "output_type": "stream",
     "text": [
      "LSTM with Attention test accuracy = 0.7731991477401514\n"
     ]
    }
   ],
   "source": [
    "_ = eval_model(model_name=\"LSTM with Attention\", model=lstmatt_model, X_test=df_test, y_test=labels_test, device=device)"
   ]
  },
  {
   "cell_type": "code",
   "execution_count": 21,
   "id": "7ffdfc8c-4c7a-4fb7-97c8-f536b2ff0a14",
   "metadata": {},
   "outputs": [
    {
     "name": "stdout",
     "output_type": "stream",
     "text": [
      "CNN test accuracy = 0.8898862142436194\n"
     ]
    }
   ],
   "source": [
    "df_test_cnn = df_test.transpose(1, 2)\n",
    "_ = eval_model(model_name=\"CNN\", model=cnn_model, X_test=df_test_cnn, y_test=labels_test, device=device)"
   ]
  },
  {
   "cell_type": "code",
   "execution_count": null,
   "id": "7de3dc22-dee8-462a-a761-a550cee11669",
   "metadata": {},
   "outputs": [],
   "source": []
  },
  {
   "cell_type": "code",
   "execution_count": null,
   "id": "c48db357-5c07-440b-8946-142fe88e0139",
   "metadata": {},
   "outputs": [],
   "source": []
  },
  {
   "cell_type": "markdown",
   "id": "9ec63905-78be-4573-a78a-1c1c83a3f7d8",
   "metadata": {},
   "source": [
    "# Saliency"
   ]
  },
  {
   "cell_type": "code",
   "execution_count": null,
   "id": "90a78455-8ddd-4532-9de7-95b92b60868f",
   "metadata": {},
   "outputs": [],
   "source": []
  }
 ],
 "metadata": {
  "kernelspec": {
   "display_name": "Python 3 (ipykernel)",
   "language": "python",
   "name": "python3"
  },
  "language_info": {
   "codemirror_mode": {
    "name": "ipython",
    "version": 3
   },
   "file_extension": ".py",
   "mimetype": "text/x-python",
   "name": "python",
   "nbconvert_exporter": "python",
   "pygments_lexer": "ipython3",
   "version": "3.10.5"
  }
 },
 "nbformat": 4,
 "nbformat_minor": 5
}
